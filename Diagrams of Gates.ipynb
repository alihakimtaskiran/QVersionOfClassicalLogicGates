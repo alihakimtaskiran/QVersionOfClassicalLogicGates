{
 "cells": [
  {
   "cell_type": "code",
   "execution_count": 1,
   "id": "b12e75a2",
   "metadata": {},
   "outputs": [],
   "source": [
    "from qiskit import QuantumCircuit"
   ]
  },
  {
   "cell_type": "markdown",
   "id": "46a8b9c4",
   "metadata": {},
   "source": [
    "## NOT Gate\n",
    "\n",
    "| A | Out |\n",
    "|---|-----|\n",
    "| 1 | 0   |\n",
    "| 0 | 1   |"
   ]
  },
  {
   "cell_type": "code",
   "execution_count": 2,
   "id": "4a9a5b2f",
   "metadata": {},
   "outputs": [
    {
     "data": {
      "image/png": "[encoded data removed]",
      "text/plain": [
       "<Figure size 133.526x84.28 with 1 Axes>"
      ]
     },
     "execution_count": 2,
     "metadata": {},
     "output_type": "execute_result"
    }
   ],
   "source": [
    "qc=QuantumCircuit(1)\n",
    "qc.x(0)\n",
    "qc.draw(\"mpl\")"
   ]
  },
  {
   "cell_type": "markdown",
   "id": "10ddb225",
   "metadata": {},
   "source": [
    "## AND Gate\n",
    "\n",
    "| A | B | Out |\n",
    "|---|-----|---|\n",
    "| 1 | 1   | 1  |\n",
    "| 1 | 0  |  0 |\n",
    "|  0 |  1   | 0  |\n",
    "|  0 | 0    |  0 |"
   ]
  },
  {
   "cell_type": "code",
   "execution_count": 3,
   "id": "4a86eca1",
   "metadata": {},
   "outputs": [
    {
     "data": {
      "image/png": "[encoded data removed]",
      "text/plain": [
       "<Figure size 146.797x204.68 with 1 Axes>"
      ]
     },
     "execution_count": 3,
     "metadata": {},
     "output_type": "execute_result"
    }
   ],
   "source": [
    "qc=QuantumCircuit(3)\n",
    "qc.ccx(0,1,2)\n",
    "\n",
    "qc.draw(\"mpl\")"
   ]
  },
  {
   "cell_type": "markdown",
   "id": "41bd8e65",
   "metadata": {},
   "source": [
    "## OR Gate\n",
    "| A | B | Out |\n",
    "|---|-----|---|\n",
    "| 1 | 1   | 1  |\n",
    "| 1 | 0  |  1 |\n",
    "|  0 |  1   | 1  |\n",
    "|  0 | 0    |  0 |"
   ]
  },
  {
   "cell_type": "code",
   "execution_count": 4,
   "id": "948fa285",
   "metadata": {},
   "outputs": [
    {
     "data": {
      "image/png": "[encoded data removed]",
      "text/plain": [
       "<Figure size 267.197x204.68 with 1 Axes>"
      ]
     },
     "execution_count": 4,
     "metadata": {},
     "output_type": "execute_result"
    }
   ],
   "source": [
    "qc=QuantumCircuit(3)\n",
    "qc.cx(1,2)\n",
    "qc.cx(0,2)\n",
    "qc.ccx(0,1,2)\n",
    "\n",
    "qc.draw(\"mpl\")"
   ]
  },
  {
   "cell_type": "markdown",
   "id": "77916857",
   "metadata": {},
   "source": [
    "## XOR Gate\n",
    "| A | B | Out |\n",
    "|---|-----|---|\n",
    "| 1 | 1   | 0  |\n",
    "| 1 | 0  |  1|\n",
    "|  0 |  1   | 1  |\n",
    "|  0 | 0    |  0 |"
   ]
  },
  {
   "cell_type": "code",
   "execution_count": 5,
   "id": "e18f0703",
   "metadata": {},
   "outputs": [
    {
     "data": {
      "image/png": "[encoded data removed]",
      "text/plain": [
       "<Figure size 206.997x204.68 with 1 Axes>"
      ]
     },
     "execution_count": 5,
     "metadata": {},
     "output_type": "execute_result"
    }
   ],
   "source": [
    "qc=QuantumCircuit(3)\n",
    "qc.cx(1,2)\n",
    "qc.cx(0,2)\n",
    "\n",
    "qc.draw(\"mpl\")"
   ]
  }
 ],
 "metadata": {
  "kernelspec": {
   "display_name": "Python 3",
   "language": "python",
   "name": "python3"
  },
  "language_info": {
   "codemirror_mode": {
    "name": "ipython",
    "version": 3
   },
   "file_extension": ".py",
   "mimetype": "text/x-python",
   "name": "python",
   "nbconvert_exporter": "python",
   "pygments_lexer": "ipython3",
   "version": "3.8.8"
  }
 },
 "nbformat": 4,
 "nbformat_minor": 5
}
